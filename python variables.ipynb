{
 "cells": [
  {
   "cell_type": "markdown",
   "id": "604d0f80",
   "metadata": {},
   "source": [
    "# Variable Names"
   ]
  },
  {
   "cell_type": "code",
   "execution_count": 1,
   "id": "59cc45ae",
   "metadata": {},
   "outputs": [
    {
     "name": "stdout",
     "output_type": "stream",
     "text": [
      "John\n",
      "John\n",
      "John\n",
      "John\n",
      "John\n",
      "John\n",
      "Muhammad Sardar daud khan\n",
      "muhammad sardar daudkhan\n",
      "mUhAmmad SarDar Daud khan\n",
      "msdk khan\n"
     ]
    }
   ],
   "source": [
    "#in python we can not start names or include names with integers or special characters\n",
    "#except _ or lowcase or uppercase can be use\n",
    "#otherwise it will give erros\n",
    "\n",
    "myvar= \"John\"\n",
    "my_var = \"John\"\n",
    "_my_var = \"John\"\n",
    "myVar = \"John\"\n",
    "MYVAR = \"John\"\n",
    "myvar2 = \"John\"\n",
    "\n",
    "\n",
    "print(myvar)\n",
    "print(my_var)\n",
    "print(_my_var)\n",
    "print(myVar)\n",
    "print(MYVAR)\n",
    "print(myvar2)\n",
    "\n",
    "\n",
    "\n",
    "My_name = \"Muhammad Sardar daud khan\"\n",
    "myName = \"muhammad sardar daudkhan\"\n",
    "_Name = \"mUhAmmad SarDar Daud khan\"\n",
    "MYNAME = \"msdk khan\"\n",
    "print(My_name)\n",
    "print(myName)\n",
    "print(_Name)\n",
    "print(MYNAME)"
   ]
  },
  {
   "cell_type": "markdown",
   "id": "9a590a3c",
   "metadata": {},
   "source": [
    "#Camel Case#"
   ]
  },
  {
   "cell_type": "code",
   "execution_count": 2,
   "id": "ae44a3b9",
   "metadata": {},
   "outputs": [],
   "source": [
    "#Each word, except the first, starts with a capital letter:\n",
    "#in this each word start with capital letter instead of first word \n",
    "myNameIsKhan = \"khan\""
   ]
  },
  {
   "cell_type": "markdown",
   "id": "47ac3ba9",
   "metadata": {},
   "source": [
    "#Pascal Case#"
   ]
  },
  {
   "cell_type": "code",
   "execution_count": 3,
   "id": "a99fd83d",
   "metadata": {},
   "outputs": [],
   "source": [
    "#Each word starts with a capital letter:\n",
    "MyNameIsKhan = \"khan\""
   ]
  },
  {
   "cell_type": "markdown",
   "id": "9062449c",
   "metadata": {},
   "source": [
    "#Snake Case#"
   ]
  },
  {
   "cell_type": "code",
   "execution_count": 4,
   "id": "83a2766a",
   "metadata": {},
   "outputs": [],
   "source": [
    "#Each word is separated by an underscore character:\n",
    "my_name_is_khan = \"khan\""
   ]
  },
  {
   "cell_type": "markdown",
   "id": "64755325",
   "metadata": {},
   "source": [
    "# Many Values to Multiple Variables"
   ]
  },
  {
   "cell_type": "code",
   "execution_count": 5,
   "id": "fa2af9ce",
   "metadata": {},
   "outputs": [
    {
     "name": "stdout",
     "output_type": "stream",
     "text": [
      "orange\n",
      "banana\n",
      "mango\n"
     ]
    }
   ],
   "source": [
    "x,y,z = \"orange\" , \"banana\" , \"mango\"\n",
    "print(x)\n",
    "print(y)\n",
    "print(z)"
   ]
  },
  {
   "cell_type": "markdown",
   "id": "51ead862",
   "metadata": {},
   "source": [
    "#one value to multiple variable#\n"
   ]
  },
  {
   "cell_type": "code",
   "execution_count": 6,
   "id": "036379fd",
   "metadata": {},
   "outputs": [
    {
     "name": "stdout",
     "output_type": "stream",
     "text": [
      "banana\n",
      "banana\n",
      "banana\n",
      "banana\n"
     ]
    }
   ],
   "source": [
    "x = y = z = x = \"banana\"\n",
    "print(x)\n",
    "print(y)\n",
    "print(z)\n",
    "print(x)"
   ]
  },
  {
   "cell_type": "markdown",
   "id": "f4386252",
   "metadata": {},
   "source": [
    "#Unpack a Collection#\n",
    "\n"
   ]
  },
  {
   "cell_type": "code",
   "execution_count": 7,
   "id": "8136b620",
   "metadata": {},
   "outputs": [
    {
     "name": "stdout",
     "output_type": "stream",
     "text": [
      "apple\n",
      "mango\n",
      "orange\n"
     ]
    }
   ],
   "source": [
    "fruits = [\"apple\",\"mango\",\"orange\"]\n",
    "\n",
    "x,y,z = fruits\n",
    "\n",
    "print(x)\n",
    "print(y)\n",
    "print(z)"
   ]
  },
  {
   "cell_type": "code",
   "execution_count": 8,
   "id": "9029baec",
   "metadata": {},
   "outputs": [
    {
     "name": "stdout",
     "output_type": "stream",
     "text": [
      "khan\n",
      "ibrahim\n",
      "ahmad\n"
     ]
    }
   ],
   "source": [
    "names = [ \"khan\",\"ibrahim\", \"ahmad\"]\n",
    "a,b,c = names\n",
    "print(a)\n",
    "print(b)\n",
    "print(c)\n"
   ]
  },
  {
   "cell_type": "markdown",
   "id": "08e6ea77",
   "metadata": {},
   "source": [
    "#Output Variables#"
   ]
  },
  {
   "cell_type": "code",
   "execution_count": 9,
   "id": "ce6c3c0b",
   "metadata": {},
   "outputs": [
    {
     "name": "stdout",
     "output_type": "stream",
     "text": [
      "My name is Muhammad Sardar Duad khan\n"
     ]
    }
   ],
   "source": [
    "b = \"Muhammad Sardar Duad khan\"\n",
    "print(\"My name is \"+ b)"
   ]
  },
  {
   "cell_type": "code",
   "execution_count": 10,
   "id": "b6d810f3",
   "metadata": {},
   "outputs": [
    {
     "name": "stdout",
     "output_type": "stream",
     "text": [
      "my name is Muhammad Sardar Duad Khan\n"
     ]
    }
   ],
   "source": [
    "#You can also use the + character to add a variable to another variable:\n",
    "b = \"Muhammad Sardar Duad Khan\"\n",
    "a = \"my name is \"\n",
    "print(a + b)"
   ]
  },
  {
   "cell_type": "code",
   "execution_count": 11,
   "id": "b237222b",
   "metadata": {},
   "outputs": [
    {
     "name": "stdout",
     "output_type": "stream",
     "text": [
      "my name is Muhammad Sardar Duad Khan\n"
     ]
    }
   ],
   "source": [
    "b = \"Muhammad Sardar Duad Khan\"\n",
    "a = \"my name is \"\n",
    "c = a + b\n",
    "print(c)"
   ]
  },
  {
   "cell_type": "code",
   "execution_count": 12,
   "id": "894adc0a",
   "metadata": {},
   "outputs": [
    {
     "ename": "TypeError",
     "evalue": "can only concatenate str (not \"int\") to str",
     "output_type": "error",
     "traceback": [
      "\u001b[0;31m---------------------------------------------------------------------------\u001b[0m",
      "\u001b[0;31mTypeError\u001b[0m                                 Traceback (most recent call last)",
      "\u001b[0;32m/tmp/ipykernel_58016/1026891766.py\u001b[0m in \u001b[0;36m<module>\u001b[0;34m\u001b[0m\n\u001b[1;32m      2\u001b[0m \u001b[0ma\u001b[0m \u001b[0;34m=\u001b[0m \u001b[0;34m\"khan\"\u001b[0m\u001b[0;34m\u001b[0m\u001b[0;34m\u001b[0m\u001b[0m\n\u001b[1;32m      3\u001b[0m \u001b[0mb\u001b[0m \u001b[0;34m=\u001b[0m \u001b[0;36m2\u001b[0m\u001b[0;34m\u001b[0m\u001b[0;34m\u001b[0m\u001b[0m\n\u001b[0;32m----> 4\u001b[0;31m \u001b[0mprint\u001b[0m\u001b[0;34m(\u001b[0m\u001b[0ma\u001b[0m \u001b[0;34m+\u001b[0m \u001b[0mb\u001b[0m\u001b[0;34m)\u001b[0m\u001b[0;34m\u001b[0m\u001b[0;34m\u001b[0m\u001b[0m\n\u001b[0m",
      "\u001b[0;31mTypeError\u001b[0m: can only concatenate str (not \"int\") to str"
     ]
    }
   ],
   "source": [
    "#If you try to combine a string and a number, Python will give you an error:\n",
    "a = \"khan\"\n",
    "b = 2\n",
    "print(a + b)"
   ]
  },
  {
   "cell_type": "markdown",
   "id": "dc0a1f5e",
   "metadata": {},
   "source": [
    "#Global Variables#\n"
   ]
  },
  {
   "cell_type": "code",
   "execution_count": null,
   "id": "7ad9a94b",
   "metadata": {},
   "outputs": [],
   "source": [
    "x = \"awesome\"\n",
    "\n",
    "def myfunc():\n",
    "  print(\"Python is \" + x)\n",
    "\n",
    "myfunc()"
   ]
  },
  {
   "cell_type": "code",
   "execution_count": null,
   "id": "3e1c69f5",
   "metadata": {},
   "outputs": [],
   "source": [
    "x = \" khan\"\n",
    "def myfunc():\n",
    "    print(\"My name is\" + x)\n",
    "    \n",
    "    \n",
    "myfunc()"
   ]
  },
  {
   "cell_type": "markdown",
   "id": "d7804282",
   "metadata": {},
   "source": [
    "#changing global varibale#"
   ]
  },
  {
   "cell_type": "code",
   "execution_count": null,
   "id": "5ea06fe1",
   "metadata": {},
   "outputs": [],
   "source": [
    "#use the global keyword if you want to change a global variable inside a function\n",
    "x = \"awesome\"\n",
    "\n",
    "def myfunc():\n",
    "  global x\n",
    "  x = \"fantastic\"\n",
    "\n",
    "myfunc()\n",
    "\n",
    "print(\"Python is \" + x)\n",
    "    "
   ]
  }
 ],
 "metadata": {
  "kernelspec": {
   "display_name": "Python 3 (ipykernel)",
   "language": "python",
   "name": "python3"
  },
  "language_info": {
   "codemirror_mode": {
    "name": "ipython",
    "version": 3
   },
   "file_extension": ".py",
   "mimetype": "text/x-python",
   "name": "python",
   "nbconvert_exporter": "python",
   "pygments_lexer": "ipython3",
   "version": "3.8.12"
  }
 },
 "nbformat": 4,
 "nbformat_minor": 5
}
